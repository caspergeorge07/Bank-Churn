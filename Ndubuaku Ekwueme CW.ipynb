{
 "cells": [
  {
   "cell_type": "code",
   "execution_count": 24,
   "id": "787d442c",
   "metadata": {},
   "outputs": [
    {
     "name": "stdout",
     "output_type": "stream",
     "text": [
      "+---------+----------+--------+-----------+---------+------+----+------+---------+-------------+---------+--------------+---------------+------+\n",
      "|RowNumber|CustomerId| Surname|CreditScore|Geography|Gender| Age|Tenure|  Balance|NumOfProducts|HasCrCard|IsActiveMember|EstimatedSalary|Exited|\n",
      "+---------+----------+--------+-----------+---------+------+----+------+---------+-------------+---------+--------------+---------------+------+\n",
      "|        1|  15634602|Hargrave|        619|   France|Female|42.0|     2|      0.0|            1|        1|             1|      101348.88|     1|\n",
      "|        2|  15647311|    Hill|        608|    Spain|Female|41.0|     1| 83807.86|            1|        0|             1|      112542.58|     0|\n",
      "|        3|  15619304|    Onio|        502|   France|Female|42.0|     8| 159660.8|            3|        1|             0|      113931.57|     1|\n",
      "|        4|  15701354|    Boni|        699|   France|Female|39.0|     1|      0.0|            2|        0|             0|       93826.63|     0|\n",
      "|        5|  15737888|Mitchell|        850|    Spain|Female|43.0|     2|125510.82|            1|     NULL|             1|        79084.1|     0|\n",
      "+---------+----------+--------+-----------+---------+------+----+------+---------+-------------+---------+--------------+---------------+------+\n",
      "only showing top 5 rows\n",
      "\n",
      "root\n",
      " |-- RowNumber: integer (nullable = true)\n",
      " |-- CustomerId: integer (nullable = true)\n",
      " |-- Surname: string (nullable = true)\n",
      " |-- CreditScore: integer (nullable = true)\n",
      " |-- Geography: string (nullable = true)\n",
      " |-- Gender: string (nullable = true)\n",
      " |-- Age: double (nullable = true)\n",
      " |-- Tenure: integer (nullable = true)\n",
      " |-- Balance: double (nullable = true)\n",
      " |-- NumOfProducts: integer (nullable = true)\n",
      " |-- HasCrCard: integer (nullable = true)\n",
      " |-- IsActiveMember: integer (nullable = true)\n",
      " |-- EstimatedSalary: double (nullable = true)\n",
      " |-- Exited: integer (nullable = true)\n",
      "\n",
      "+---------+----------+-------+-----------+---------+------+---+------+-------+-------------+---------+--------------+---------------+------+\n",
      "|RowNumber|CustomerId|Surname|CreditScore|Geography|Gender|Age|Tenure|Balance|NumOfProducts|HasCrCard|IsActiveMember|EstimatedSalary|Exited|\n",
      "+---------+----------+-------+-----------+---------+------+---+------+-------+-------------+---------+--------------+---------------+------+\n",
      "|        0|         0|      0|          0|        1|     0|  1|     0|      0|            0|        1|             1|              0|     0|\n",
      "+---------+----------+-------+-----------+---------+------+---+------+-------+-------------+---------+--------------+---------------+------+\n",
      "\n"
     ]
    }
   ],
   "source": [
    "# Import necessary libraries\n",
    "from pyspark.sql import SparkSession\n",
    "from pyspark.ml.feature import VectorAssembler, StringIndexer, StandardScaler, MinMaxScaler\n",
    "from pyspark.ml.classification import LogisticRegression, RandomForestClassifier, LinearSVC\n",
    "from pyspark.ml.evaluation import BinaryClassificationEvaluator\n",
    "from pyspark.sql.functions import count, isnan, when, col, sum\n",
    "\n",
    "# Initialize SparkSession\n",
    "spark = SparkSession.builder \\\n",
    "    .appName(\"Bank Customer Churn\") \\\n",
    "    .getOrCreate()\n",
    "\n",
    "# Load the dataset\n",
    "df = spark.read.csv(\"Churn_Modelling.csv\", header=True, inferSchema=True)\n",
    "\n",
    "df.show(5) \n",
    "df.printSchema()\n",
    "\n",
    "\n",
    "# Check for missing values\n",
    "missing_values = df.select([sum(col(c).isNull().cast(\"int\")).alias(c) for c in df.columns])\n",
    "\n",
    "# Show the count of missing values for each column\n",
    "missing_values.show()\n",
    "\n"
   ]
  },
  {
   "cell_type": "code",
   "execution_count": 28,
   "id": "b494ce58",
   "metadata": {},
   "outputs": [
    {
     "name": "stdout",
     "output_type": "stream",
     "text": [
      "df shape: (9998, 14)\n",
      "+---------+----------+-------+-----------+---------+------+---+------+-------+-------------+---------+--------------+---------------+------+\n",
      "|RowNumber|CustomerId|Surname|CreditScore|Geography|Gender|Age|Tenure|Balance|NumOfProducts|HasCrCard|IsActiveMember|EstimatedSalary|Exited|\n",
      "+---------+----------+-------+-----------+---------+------+---+------+-------+-------------+---------+--------------+---------------+------+\n",
      "|        0|         0|      0|          0|        0|     0|  0|     0|      0|            0|        0|             0|              0|     0|\n",
      "+---------+----------+-------+-----------+---------+------+---+------+-------+-------------+---------+--------------+---------------+------+\n",
      "\n"
     ]
    }
   ],
   "source": [
    "# Drop rows with missing value\n",
    "df = df.dropna()\n",
    "\n",
    "# Show the shape of the DataFrame\n",
    "print(\"df shape:\", (df.count(), len(df.columns)))\n",
    "\n",
    "# Check for missing values\n",
    "missing_values = df.select([sum(col(c).isNull().cast(\"int\")).alias(c) for c in df.columns])\n",
    "\n",
    "# Show the count of missing values for each column\n",
    "missing_values.show()\n"
   ]
  },
  {
   "cell_type": "code",
   "execution_count": 3,
   "id": "492ccad7",
   "metadata": {},
   "outputs": [
    {
     "name": "stdout",
     "output_type": "stream",
     "text": [
      "Number of Rows:  9998\n",
      "Number of columns:  14\n"
     ]
    },
    {
     "data": {
      "text/plain": [
       "['RowNumber',\n",
       " 'CustomerId',\n",
       " 'Surname',\n",
       " 'CreditScore',\n",
       " 'Geography',\n",
       " 'Gender',\n",
       " 'Age',\n",
       " 'Tenure',\n",
       " 'Balance',\n",
       " 'NumOfProducts',\n",
       " 'HasCrCard',\n",
       " 'IsActiveMember',\n",
       " 'EstimatedSalary',\n",
       " 'Exited']"
      ]
     },
     "execution_count": 3,
     "metadata": {},
     "output_type": "execute_result"
    }
   ],
   "source": [
    "#check number of rows\n",
    "df.count()\n",
    "print('Number of Rows: ', df.count())\n",
    "\n",
    "#check number of columns\n",
    "len(df.columns)\n",
    "print('Number of columns: ', len(df.columns))\n",
    "\n",
    "df.columns"
   ]
  },
  {
   "cell_type": "code",
   "execution_count": 4,
   "id": "3f476838",
   "metadata": {},
   "outputs": [
    {
     "name": "stdout",
     "output_type": "stream",
     "text": [
      "                     0                     1                    2         3  \\\n",
      "summary          count                  mean               stddev       min   \n",
      "RowNumber         9998       5003.4974994999   2886.3212745107903         1   \n",
      "CustomerId        9998  1.5690938307161432E7    71923.98792778245  15565701   \n",
      "Surname           9998                  None                 None     Abazu   \n",
      "CreditScore       9998     650.5296059211843    96.63300292778429       350   \n",
      "Geography         9998                  None                 None    France   \n",
      "Gender            9998                  None                 None    Female   \n",
      "Age               9998    38.920287057411485   10.487985680801955      18.0   \n",
      "Tenure            9998     5.013002600520104   2.8921515050722646         0   \n",
      "Balance           9998     76481.49081916342    62393.18703475571       0.0   \n",
      "NumOfProducts     9998    1.5302060412082417   0.5816693900656227         1   \n",
      "HasCrCard         9998    0.7055411082216443  0.45582193272236976         0   \n",
      "IsActiveMember    9998    0.5148029605921184   0.4998058202348377         0   \n",
      "EstimatedSalary   9998    100099.78645529084    57510.93996209777     11.58   \n",
      "Exited            9998   0.20384076815363072  0.40287211771635406         0   \n",
      "\n",
      "                         4  \n",
      "summary                max  \n",
      "RowNumber            10000  \n",
      "CustomerId        15815690  \n",
      "Surname             Zuyeva  \n",
      "CreditScore            850  \n",
      "Geography            Spain  \n",
      "Gender                Male  \n",
      "Age                   92.0  \n",
      "Tenure                  10  \n",
      "Balance          250898.09  \n",
      "NumOfProducts            4  \n",
      "HasCrCard                1  \n",
      "IsActiveMember           1  \n",
      "EstimatedSalary  199992.48  \n",
      "Exited                   1  \n"
     ]
    }
   ],
   "source": [
    "# Compute descriptive statistics for all numerical columns\n",
    "summary = df.describe()\n",
    "\n",
    "# Transpose the summary DataFrame\n",
    "summary_transposed = summary.select(*[col(c).alias(c) for c in summary.columns]).toPandas().transpose()\n",
    "\n",
    "# Show the transposed summary DataFrame\n",
    "print(summary_transposed)"
   ]
  },
  {
   "cell_type": "code",
   "execution_count": 5,
   "id": "dbe44c14",
   "metadata": {},
   "outputs": [
    {
     "name": "stdout",
     "output_type": "stream",
     "text": [
      "+---------+----------+-------+-----------+---------+------+---+------+-------+-------------+---------+--------------+---------------+------+\n",
      "|RowNumber|CustomerId|Surname|CreditScore|Geography|Gender|Age|Tenure|Balance|NumOfProducts|HasCrCard|IsActiveMember|EstimatedSalary|Exited|\n",
      "+---------+----------+-------+-----------+---------+------+---+------+-------+-------------+---------+--------------+---------------+------+\n",
      "|     9823|      9889|   2792|        469|        3|     2| 72|    11|   7099|            4|        2|             2|           9628|     2|\n",
      "+---------+----------+-------+-----------+---------+------+---+------+-------+-------------+---------+--------------+---------------+------+\n",
      "\n"
     ]
    }
   ],
   "source": [
    "from pyspark.sql import SparkSession\n",
    "from pyspark.sql.functions import approx_count_distinct\n",
    "\n",
    "unique_value_counts = df.agg(*[approx_count_distinct(c).alias(c) for c in df.columns])\n",
    "\n",
    "# Show the unique value counts for each column\n",
    "unique_value_counts.show()"
   ]
  },
  {
   "cell_type": "code",
   "execution_count": 6,
   "id": "bc14139a",
   "metadata": {},
   "outputs": [
    {
     "name": "stdout",
     "output_type": "stream",
     "text": [
      "+---------+----------+---------+-----------+---------+------+-----+------+---------+-------------+---------+--------------+---------------+------+--------------+-----------+\n",
      "|RowNumber|CustomerId|  Surname|CreditScore|Geography|Gender|  Age|Tenure|  Balance|NumOfProducts|HasCrCard|IsActiveMember|EstimatedSalary|Exited|GeographyIndex|GenderIndex|\n",
      "+---------+----------+---------+-----------+---------+------+-----+------+---------+-------------+---------+--------------+---------------+------+--------------+-----------+\n",
      "|        1|  15634602| Hargrave|        619|   France|Female| 42.0|     2|      0.0|            1|        1|             1|      101348.88|     1|           0.0|        1.0|\n",
      "|        2|  15647311|     Hill|        608|    Spain|Female| 41.0|     1| 83807.86|            1|        0|             1|      112542.58|     0|           2.0|        1.0|\n",
      "|        3|  15619304|     Onio|        502|   France|Female| 42.0|     8| 159660.8|            3|        1|             0|      113931.57|     1|           0.0|        1.0|\n",
      "|        4|  15701354|     Boni|        699|   France|Female| 39.0|     1|      0.0|            2|        0|             0|       93826.63|     0|           0.0|        1.0|\n",
      "|        6|  15574012|      Chu|        645|    Spain|  Male| 44.0|     8|113755.78|            2|        1|             0|      149756.71|     1|           2.0|        0.0|\n",
      "|        8|  15656148|   Obinna|        376|  Germany|Female| 29.0|     4|115046.74|            4|        1|             0|      119346.88|     1|           1.0|        1.0|\n",
      "|       11|  15767821|   Bearce|        528|   France|  Male| 31.0|     6|102016.72|            2|        0|             0|       80181.12|     0|           0.0|        0.0|\n",
      "|       12|  15737173|  Andrews|        497|    Spain|  Male| 24.0|     3|      0.0|            2|        1|             0|       76390.01|     0|           2.0|        0.0|\n",
      "|       13|  15632264|      Kay|        476|   France|Female| 34.0|    10|      0.0|            2|        1|             0|       26260.98|     0|           0.0|        1.0|\n",
      "|       14|  15691483|     Chin|        549|   France|Female| 25.0|     5|      0.0|            2|        0|             0|      190857.79|     0|           0.0|        1.0|\n",
      "|       15|  15600882|    Scott|        635|    Spain|Female| 35.0|     7|      0.0|            2|        1|             1|       65951.65|     0|           2.0|        1.0|\n",
      "|       16|  15643966|  Goforth|        616|  Germany|  Male| 45.0|     3|143129.41|            2|        0|             1|       64327.26|     0|           1.0|        0.0|\n",
      "|       17|  15737452|    Romeo|        653|  Germany|  Male| 58.0|     1|132602.88|            1|        1|             0|        5097.67|     1|           1.0|        0.0|\n",
      "|       18|  15788218|Henderson|        549|    Spain|Female| 24.0|     9|      0.0|            2|        1|             1|       14406.41|     0|           2.0|        1.0|\n",
      "|       19|  15661507|  Muldrow|        587|    Spain|  Male|45.25|     6|      0.0|            1|        0|             0|      158684.81|     0|           2.0|        0.0|\n",
      "|       20|  15568982|      Hao|        726|   France|Female| 24.0|     6|      0.0|            2|        1|             1|       54724.03|     0|           0.0|        1.0|\n",
      "|       21|  15577657| McDonald|        732|   France|  Male| 41.0|     8|      0.0|            2|        1|             1|      170886.17|     0|           0.0|        0.0|\n",
      "|       22|  15597945| Dellucci|        636|    Spain|Female|32.34|     8|      0.0|            2|        1|             0|      138555.46|     0|           2.0|        1.0|\n",
      "|       23|  15699309|Gerasimov|        510|    Spain|Female| 38.0|     4|      0.0|            1|        1|             0|      118913.53|     1|           2.0|        1.0|\n",
      "|       24|  15725737|   Mosman|        669|   France|  Male| 46.0|     3|      0.0|            2|        0|             1|        8487.75|     0|           0.0|        0.0|\n",
      "+---------+----------+---------+-----------+---------+------+-----+------+---------+-------------+---------+--------------+---------------+------+--------------+-----------+\n",
      "only showing top 20 rows\n",
      "\n",
      "+-----------+-----+------+---------+-------------+---------+--------------+---------------+------+--------------+-----------+\n",
      "|CreditScore|  Age|Tenure|  Balance|NumOfProducts|HasCrCard|IsActiveMember|EstimatedSalary|Exited|GeographyIndex|GenderIndex|\n",
      "+-----------+-----+------+---------+-------------+---------+--------------+---------------+------+--------------+-----------+\n",
      "|        619| 42.0|     2|      0.0|            1|        1|             1|      101348.88|     1|           0.0|        1.0|\n",
      "|        608| 41.0|     1| 83807.86|            1|        0|             1|      112542.58|     0|           2.0|        1.0|\n",
      "|        502| 42.0|     8| 159660.8|            3|        1|             0|      113931.57|     1|           0.0|        1.0|\n",
      "|        699| 39.0|     1|      0.0|            2|        0|             0|       93826.63|     0|           0.0|        1.0|\n",
      "|        645| 44.0|     8|113755.78|            2|        1|             0|      149756.71|     1|           2.0|        0.0|\n",
      "|        376| 29.0|     4|115046.74|            4|        1|             0|      119346.88|     1|           1.0|        1.0|\n",
      "|        528| 31.0|     6|102016.72|            2|        0|             0|       80181.12|     0|           0.0|        0.0|\n",
      "|        497| 24.0|     3|      0.0|            2|        1|             0|       76390.01|     0|           2.0|        0.0|\n",
      "|        476| 34.0|    10|      0.0|            2|        1|             0|       26260.98|     0|           0.0|        1.0|\n",
      "|        549| 25.0|     5|      0.0|            2|        0|             0|      190857.79|     0|           0.0|        1.0|\n",
      "|        635| 35.0|     7|      0.0|            2|        1|             1|       65951.65|     0|           2.0|        1.0|\n",
      "|        616| 45.0|     3|143129.41|            2|        0|             1|       64327.26|     0|           1.0|        0.0|\n",
      "|        653| 58.0|     1|132602.88|            1|        1|             0|        5097.67|     1|           1.0|        0.0|\n",
      "|        549| 24.0|     9|      0.0|            2|        1|             1|       14406.41|     0|           2.0|        1.0|\n",
      "|        587|45.25|     6|      0.0|            1|        0|             0|      158684.81|     0|           2.0|        0.0|\n",
      "|        726| 24.0|     6|      0.0|            2|        1|             1|       54724.03|     0|           0.0|        1.0|\n",
      "|        732| 41.0|     8|      0.0|            2|        1|             1|      170886.17|     0|           0.0|        0.0|\n",
      "|        636|32.34|     8|      0.0|            2|        1|             0|      138555.46|     0|           2.0|        1.0|\n",
      "|        510| 38.0|     4|      0.0|            1|        1|             0|      118913.53|     1|           2.0|        1.0|\n",
      "|        669| 46.0|     3|      0.0|            2|        0|             1|        8487.75|     0|           0.0|        0.0|\n",
      "+-----------+-----+------+---------+-------------+---------+--------------+---------------+------+--------------+-----------+\n",
      "only showing top 20 rows\n",
      "\n"
     ]
    }
   ],
   "source": [
    "# Define the StringIndexer for Geography\n",
    "geography_indexer = StringIndexer(inputCol=\"Geography\", outputCol=\"GeographyIndex\")\n",
    "\n",
    "# Define the StringIndexer for Gender\n",
    "gender_indexer = StringIndexer(inputCol=\"Gender\", outputCol=\"GenderIndex\")\n",
    "\n",
    "# Fit and transform the DataFrame\n",
    "df = geography_indexer.fit(df).transform(df)\n",
    "df = gender_indexer.fit(df).transform(df)\n",
    "\n",
    "# Show the transformed DataFrame\n",
    "df.show()\n",
    "\n",
    "#columns to drop\n",
    "# Drop columns\n",
    "columns_to_drop = ['RowNumber', 'CustomerId', 'Surname', 'Geography','Gender']\n",
    "df = df.drop(*columns_to_drop)\n",
    "\n",
    "# Show DataFrame\n",
    "df.show()"
   ]
  },
  {
   "cell_type": "markdown",
   "id": "a317824e",
   "metadata": {},
   "source": [
    "# Without PCA "
   ]
  },
  {
   "cell_type": "code",
   "execution_count": 20,
   "id": "642014c3",
   "metadata": {},
   "outputs": [
    {
     "name": "stdout",
     "output_type": "stream",
     "text": [
      "Logistic Regression Accuracy: 0.7458584788777394\n",
      "Random Forest Accuracy: 0.8359586280857412\n",
      "SVM Accuracy: 0.7416869829343347\n"
     ]
    }
   ],
   "source": [
    "# Feature Selection\n",
    "feature_cols = ['CreditScore', 'Age', 'Tenure', 'Balance','NumOfProducts', 'HasCrCard', \n",
    "                'IsActiveMember', 'EstimatedSalary', 'GeographyIndex', 'GenderIndex']\n",
    "assembler = VectorAssembler(inputCols=feature_cols, outputCol=\"unscaled_features\")\n",
    "data = assembler.transform(df)\n",
    "\n",
    "scaler = MinMaxScaler(inputCol=\"unscaled_features\", outputCol=\"features\")\n",
    "scaler_model = scaler.fit(data)\n",
    "scaled_data = scaler_model.transform(data)\n",
    "\n",
    "# Split the data into training and testing sets\n",
    "(train_data, test_data) = scaled_data.randomSplit([0.8, 0.2], seed=42)\n",
    "\n",
    "# Model Building - Logistic Regression\n",
    "lr = LogisticRegression(labelCol='Exited', featuresCol=\"features\")\n",
    "lr_model = lr.fit(train_data)\n",
    "\n",
    "# Model Building - Random Forest\n",
    "rf = RandomForestClassifier(labelCol='Exited', featuresCol=\"features\")\n",
    "rf_model = rf.fit(train_data)\n",
    "\n",
    "# Model Building - SVM\n",
    "svm = LinearSVC(labelCol='Exited', featuresCol=\"features\")\n",
    "svm_model = svm.fit(train_data)\n",
    "\n",
    "# Model Evaluation\n",
    "def evaluate_model(model, test_data):\n",
    "    predictions = model.transform(test_data)\n",
    "    evaluator = BinaryClassificationEvaluator(labelCol='Exited')\n",
    "    accuracy = evaluator.evaluate(predictions)\n",
    "    return accuracy\n",
    "\n",
    "# Evaluate Logistic Regression model\n",
    "lr_accuracy = evaluate_model(lr_model, test_data)\n",
    "\n",
    "# Evaluate Random Forest model\n",
    "rf_accuracy = evaluate_model(rf_model, test_data)\n",
    "\n",
    "# Evaluate SVM model\n",
    "svm_accuracy = evaluate_model(svm_model, test_data)\n",
    "\n",
    "# Print accuracies\n",
    "print(\"Logistic Regression Accuracy:\", lr_accuracy)\n",
    "print(\"Random Forest Accuracy:\", rf_accuracy)\n",
    "print(\"SVM Accuracy:\", svm_accuracy)\n",
    "\n",
    "# Stop SparkSession\n",
    "#spark.stop()\n"
   ]
  },
  {
   "cell_type": "markdown",
   "id": "66a457c7",
   "metadata": {},
   "source": [
    "# with PCA"
   ]
  },
  {
   "cell_type": "code",
   "execution_count": 23,
   "id": "9550da7c",
   "metadata": {},
   "outputs": [
    {
     "name": "stdout",
     "output_type": "stream",
     "text": [
      "Logistic Regression Accuracy: 0.6463037714986054\n",
      "Random Forest Accuracy: 0.6800953865419713\n",
      "SVM Accuracy: 0.5488847701264251\n"
     ]
    }
   ],
   "source": [
    "# Feature Selection\n",
    "feature_cols = ['CreditScore', 'Age', 'Tenure', 'Balance','NumOfProducts', 'HasCrCard', \n",
    "                'IsActiveMember', 'EstimatedSalary', 'GeographyIndex', 'GenderIndex']\n",
    "assembler = VectorAssembler(inputCols=feature_cols, outputCol=\"unscaled_features\")\n",
    "data = assembler.transform(df)\n",
    "\n",
    "# Apply MinMaxScaler to standadize the data\n",
    "scaler = MinMaxScaler(inputCol=\"unscaled_features\", outputCol=\"features\")\n",
    "scaler_model = scaler.fit(data)\n",
    "scaled_data = scaler_model.transform(data)\n",
    "\n",
    "from pyspark.ml.feature import PCA\n",
    "# Apply PCA\n",
    "pca = PCA(k=5, inputCol=\"features\", outputCol=\"pca_features\")\n",
    "pca_model = pca.fit(scaled_data)\n",
    "pca_data = pca_model.transform(scaled_data)\n",
    "\n",
    "# Split the data into training and testing sets\n",
    "(train_data, test_data) = pca_data.randomSplit([0.8, 0.2], seed=42)\n",
    "\n",
    "# Model Building - Logistic Regression\n",
    "lr = LogisticRegression(labelCol='Exited', featuresCol=\"pca_features\")\n",
    "lr_model = lr.fit(train_data)\n",
    "\n",
    "# Model Building - Random Forest\n",
    "rf = RandomForestClassifier(labelCol='Exited', featuresCol=\"pca_features\")\n",
    "rf_model = rf.fit(train_data)\n",
    "\n",
    "# Model Building - SVM\n",
    "svm = LinearSVC(labelCol='Exited', featuresCol=\"pca_features\")\n",
    "svm_model = svm.fit(train_data)\n",
    "\n",
    "# Model Evaluation\n",
    "def evaluate_model(model, test_data):\n",
    "    predictions = model.transform(test_data)\n",
    "    evaluator = BinaryClassificationEvaluator(labelCol='Exited')\n",
    "    accuracy = evaluator.evaluate(predictions)\n",
    "    return accuracy\n",
    "\n",
    "# Evaluate Logistic Regression model\n",
    "lr_accuracy = evaluate_model(lr_model, test_data)\n",
    "# Evaluate Random Forest model\n",
    "rf_accuracy = evaluate_model(rf_model, test_data)\n",
    "# Evaluate SVM model\n",
    "svm_accuracy = evaluate_model(svm_model, test_data)\n",
    "\n",
    "# Print accuracies\n",
    "print(\"Logistic Regression Accuracy:\", lr_accuracy)\n",
    "print(\"Random Forest Accuracy:\", rf_accuracy)\n",
    "print(\"SVM Accuracy:\", svm_accuracy)\n",
    "\n",
    "\n",
    "# Stop SparkSession\n",
    "spark.stop()\n"
   ]
  },
  {
   "cell_type": "code",
   "execution_count": 37,
   "id": "1ec7528e",
   "metadata": {},
   "outputs": [
    {
     "name": "stdout",
     "output_type": "stream",
     "text": [
      "+-------+-----------------+------------------+------------------+-----------------+------------------+-------------------+------------------+------------------+-------------------+------------------+-------------------+\n",
      "|summary|      CreditScore|               Age|            Tenure|          Balance|     NumOfProducts|          HasCrCard|    IsActiveMember|   EstimatedSalary|             Exited|    GeographyIndex|        GenderIndex|\n",
      "+-------+-----------------+------------------+------------------+-----------------+------------------+-------------------+------------------+------------------+-------------------+------------------+-------------------+\n",
      "|  count|             9998|              9998|              9998|             9998|              9998|               9998|              9998|              9998|               9998|              9998|               9998|\n",
      "|   mean|650.5296059211843|38.920287057411485| 5.013002600520104|76481.49081916342|1.5302060412082417| 0.7055411082216443|0.5148029605921184|100099.78645529084|0.20384076815363072|0.7463492698539708| 0.4543908781756351|\n",
      "| stddev|96.63300292778429|10.487985680801955|2.8921515050722646|62393.18703475571|0.5816693900656227|0.45582193272236976|0.4998058202348377| 57510.93996209777|0.40287211771635406|0.8274536716388309|0.49794036533207164|\n",
      "|    min|              350|              18.0|                 0|              0.0|                 1|                  0|                 0|             11.58|                  0|               0.0|                0.0|\n",
      "|    max|              850|              92.0|                10|        250898.09|                 4|                  1|                 1|         199992.48|                  1|               2.0|                1.0|\n",
      "+-------+-----------------+------------------+------------------+-----------------+------------------+-------------------+------------------+------------------+-------------------+------------------+-------------------+\n",
      "\n"
     ]
    }
   ],
   "source": [
    "# Basic summary statistics\n",
    "df.describe().show()"
   ]
  },
  {
   "cell_type": "code",
   "execution_count": null,
   "id": "2a9407e8",
   "metadata": {},
   "outputs": [],
   "source": []
  }
 ],
 "metadata": {
  "kernelspec": {
   "display_name": "Python 3 (ipykernel)",
   "language": "python",
   "name": "python3"
  },
  "language_info": {
   "codemirror_mode": {
    "name": "ipython",
    "version": 3
   },
   "file_extension": ".py",
   "mimetype": "text/x-python",
   "name": "python",
   "nbconvert_exporter": "python",
   "pygments_lexer": "ipython3",
   "version": "3.11.4"
  }
 },
 "nbformat": 4,
 "nbformat_minor": 5
}
